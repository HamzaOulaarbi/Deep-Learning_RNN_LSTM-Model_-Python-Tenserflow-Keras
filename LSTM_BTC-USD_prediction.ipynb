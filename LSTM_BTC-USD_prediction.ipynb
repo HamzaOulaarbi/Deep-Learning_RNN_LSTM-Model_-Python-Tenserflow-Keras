{
 "cells": [
  {
   "cell_type": "code",
   "execution_count": 17,
   "metadata": {
    "colab": {
     "base_uri": "https://localhost:8080/"
    },
    "id": "q4abnF2DIP7n",
    "outputId": "dc3d1712-0d65-48a4-e53d-738ccec3181a"
   },
   "outputs": [
    {
     "name": "stdout",
     "output_type": "stream",
     "text": [
      "train data:67604 validation:3278\n",
      "Sell data:33802 buy:33802\n",
      "Validation dont buy 1639, validation buys 1639\n",
      "Epoch 1/10\n",
      "2254/2254 [==============================] - 34s 13ms/step - loss: 0.7389 - accuracy: 0.5099 - val_loss: 0.6916 - val_accuracy: 0.5149\n",
      "Epoch 2/10\n",
      "2254/2254 [==============================] - 28s 13ms/step - loss: 0.6908 - accuracy: 0.5311 - val_loss: 0.6910 - val_accuracy: 0.5262\n",
      "Epoch 3/10\n",
      "2254/2254 [==============================] - 28s 13ms/step - loss: 0.6851 - accuracy: 0.5540 - val_loss: 0.6875 - val_accuracy: 0.5250\n",
      "Epoch 4/10\n",
      "2254/2254 [==============================] - 29s 13ms/step - loss: 0.6814 - accuracy: 0.5650 - val_loss: 0.7656 - val_accuracy: 0.5302\n",
      "Epoch 5/10\n",
      "2254/2254 [==============================] - 28s 12ms/step - loss: 0.6790 - accuracy: 0.5741 - val_loss: 0.6761 - val_accuracy: 0.5824\n",
      "Epoch 6/10\n",
      "2254/2254 [==============================] - 28s 13ms/step - loss: 0.6781 - accuracy: 0.5754 - val_loss: 0.6809 - val_accuracy: 0.5522\n",
      "Epoch 7/10\n",
      "2254/2254 [==============================] - 28s 12ms/step - loss: 0.6748 - accuracy: 0.5838 - val_loss: 0.6825 - val_accuracy: 0.5647\n",
      "Epoch 8/10\n",
      "2254/2254 [==============================] - 28s 13ms/step - loss: 0.6750 - accuracy: 0.5839 - val_loss: 0.6726 - val_accuracy: 0.5802\n",
      "Epoch 9/10\n",
      "2254/2254 [==============================] - 28s 12ms/step - loss: 0.6733 - accuracy: 0.5851 - val_loss: 0.6754 - val_accuracy: 0.5757\n",
      "Epoch 10/10\n",
      "2254/2254 [==============================] - 28s 13ms/step - loss: 0.6707 - accuracy: 0.5892 - val_loss: 0.6768 - val_accuracy: 0.5781\n"
     ]
    }
   ],
   "source": [
    "import tensorflow as tf\n",
    "import pandas as pd\n",
    "import numpy as np\n",
    "import matplotlib.pyplot as plt\n",
    "from sklearn import preprocessing\n",
    "from collections import deque\n",
    "import random\n",
    "import time \n",
    "from tensorflow.keras.models import Sequential\n",
    "from tensorflow.keras.layers import Dense, Dropout, LSTM, BatchNormalization\n",
    "from tensorflow.keras.callbacks import TensorBoard, ModelCheckpoint\n",
    "\n",
    "#=======Functions===========\n",
    "# to define the target \n",
    "def classify (current, future):\n",
    "    if float(future)>float(current):\n",
    "        return 1\n",
    "    else:\n",
    "        return 0\n",
    "\n",
    "#for preprocessing  the data and preparation of sequences\n",
    "def preprocess_df(df):\n",
    "    df=df.drop('future', 1) # we don't need this feature served only to define target\n",
    "    for col in df.columns:\n",
    "        if col!='target':\n",
    "            df[col]=df[col].pct_change()  # to calculate percentage change between the current and the immediately previous row\n",
    "            df.dropna(inplace=True)        # remove the Nas created by pct_change\n",
    "            df[col]=preprocessing.scale(df[col].values)  #  scale between 0 and 1.\n",
    "    df.dropna(inplace=True)\n",
    "    sequential_data=[]   # a list that will contain sequences of data \n",
    "    prev_days=deque(maxlen=SEQ_LEN)  # These will be our actual sequences. \n",
    "                                    #Deque=> container behaving like a list with quick additions and deletions at each end\n",
    "\n",
    "    for i in df.values:\n",
    "        prev_days.append([n for n in i[:-1]]) # # append all the ligne but not the target\n",
    "        if len(prev_days)==SEQ_LEN:         # only 60 sample \n",
    "          sequential_data.append([np.array(prev_days),i[-1]])\n",
    "             \n",
    "    random.shuffle(sequential_data) #  # shuffle for good performance\n",
    "    buys = []   # list that will store our buy sequences and targets\n",
    "    sells = []  # list that will store our sell sequences and targets\n",
    "    for seq,target in sequential_data:\n",
    "      if target==0:\n",
    "        sells.append([seq,target])\n",
    "      if target==1:\n",
    "        buys.append([seq,target])\n",
    "        \n",
    "    random.shuffle (buys) # shuffle the buys\n",
    "    random.shuffle (sells)\n",
    "    \n",
    "    lower=min(len(buys),len(sells)) # the shorter length?\n",
    "    buys=buys[:lower]\n",
    "    sells=sells[:lower]\n",
    "    sequential_data=buys+sells  # add buys and sells together together\n",
    "    random.shuffle(sequential_data)  #  shuffle, so the model doesn't get confused with all 1 class then the other.\n",
    "\n",
    "    x=[]\n",
    "    y=[]\n",
    "    \n",
    "    for seq, target in sequential_data: # sequential_data new sequencces data \n",
    "        x.append(seq)      # X is the sequences\n",
    "        y.append(target)   # y is the targets/labels (buys vs sell/notbuy) \n",
    "    return np.array(x),y\n",
    "\n",
    "#======Data Preparation========\n",
    "SEQ_LEN=60                   # lenght of each sequence \n",
    "FUTURE_PERIOD_PREDICT=3      # predict until 3 min in the futur \n",
    "RATIO_TO_PREDICT = 'BTC-USD' # \n",
    "EPOCHS=10                     #Epochs : how many passes thourgh all the data \n",
    "BATCH_SIZE=30              #batch : how many sample before updating weights\n",
    "ratios =['BTC-USD','BCH-USD','ETH-USD','LTC-USD']\n",
    "df_main=pd.DataFrame()\n",
    "for ratio in ratios :\n",
    "    data= f'/content/{ratio}.csv'  # path to the concerned file.\n",
    "    df=pd.read_csv(data,names=['time','low','high','open', f'{ratio}_close',f'{ratio}_volume']) # rename volume and close:\n",
    "    df.set_index('time',inplace=True)\n",
    "    df=df[[f'{ratio}_close',f'{ratio}_volume']]\n",
    "    if df_main.all==0:\n",
    "        df_main=df\n",
    "    else :\n",
    "        df_main=df.join(df_main)\n",
    "\n",
    "#add future and target features for classification \n",
    "\n",
    "df_main['future']=df_main[f'{RATIO_TO_PREDICT}_close'].shift(-FUTURE_PERIOD_PREDICT)\n",
    "df_main['target']=list(map(classify,df_main[f'{RATIO_TO_PREDICT}_close'], df_main['future']))\n",
    "df_main\n",
    "\n",
    "#train and data validation => last5% to the end\n",
    "\n",
    "times=sorted(df_main.index.values)\n",
    "last_5pct=times[-int(0.05*len(times))]\n",
    "validation_df_main=df_main[(df_main.index>=last_5pct)]\n",
    "df_main=df_main[(df_main.index<last_5pct)]\n",
    "df_main\n",
    "\n",
    "train_x,train_y=preprocess_df(df_main)\n",
    "validation_x,validation_y=preprocess_df(validation_df_main)\n",
    "\n",
    "print(f'train data:{len(train_x)} validation:{len(validation_x)}')\n",
    "print(f'Sell data:{train_y.count(0)} buy:{train_y.count(1)}')\n",
    "print(f'Validation dont buy {validation_y.count(0)}, validation buys {validation_y.count(1)}')\n",
    "\n",
    "model=Sequential()\n",
    "#input RNN layer (we could use cuDNNLSTM but as we are on tensorflow CPU version we use regular LSTM)\n",
    "model.add(LSTM(128,input_shape=(train_x.shape[1:]),return_sequences=True)) #input_shape= sequ_size*variables_size\n",
    "model.add(Dropout(0.2))\n",
    "model.add(BatchNormalization()) #  # to normalize the outputs of this layer\n",
    "\n",
    "\n",
    "model.add(LSTM(128,input_shape=(train_x.shape[1:]),return_sequences=True))\n",
    "model.add(Dropout(0.1))\n",
    "model.add(BatchNormalization())\n",
    "\n",
    "model.add(LSTM(128,input_shape=(train_x.shape[1:])))\n",
    "model.add(Dropout(0.2))\n",
    "model.add(BatchNormalization())\n",
    "\n",
    "#Dense layer\n",
    "model.add(Dense(32, activation='relu'))\n",
    "model.add(Dropout(0.2))\n",
    "\n",
    "#output Dense layer with 2 options\n",
    "model.add(Dense(2, activation='softmax'))\n",
    "\n",
    "# Optimizer Adam with learning rate of 0.001 and decay=1e-6\n",
    "opt=tf.keras.optimizers.Adam(lr=0.001,decay=1e-6)\n",
    "#model compile\n",
    "model.compile(loss='sparse_categorical_crossentropy',\n",
    "              optimizer=opt, \n",
    "              metrics=['accuracy'])\n",
    "\n",
    "NAME=f'{RATIO_TO_PREDICT}_{SEQ_LEN}-SEQ-{FUTURE_PERIOD_PREDICT}-PRED-{int(time.time())}'\n",
    "tensorboard=TensorBoard(log_dir=f'logs\\{NAME}')\n",
    "\n",
    "#======checkpoint========\n",
    "#to save certain checkpoint (using val_accuracy for example)=> save model at each new max vall_acc (oR other monitor)\n",
    "#=> so even we run for hundreds epochs ( model may  overfit at the end) the bests ones will be saved \n",
    "#filepath='RNN_Final{epoch:02d}-{val_accuracy:3f}'#unique file that will include the epoch and val_acc\n",
    "#checkpoint=ModelCheckpoint(r'content/models/{}.model'.format(filepath, # need to create models file in the local directory\n",
    "#                                                     monitor='val_accuracy',\n",
    "#                                                    save_best_only=True,\n",
    "#                                                 mode='max', verbose=1)) #\n",
    "history = model.fit(train_x,np.array(train_y), \n",
    "                    epochs=EPOCHS,\n",
    "                    batch_size=BATCH_SIZE,\n",
    "                    validation_data=([validation_x], np.array(validation_y)),\n",
    "                    callbacks=[tensorboard])\n",
    "\n"
   ]
  },
  {
   "cell_type": "code",
   "execution_count": 20,
   "metadata": {
    "id": "u5noh9kUwUk3"
   },
   "outputs": [],
   "source": [
    "model.save('LSTM_cryptocurrency_BTC-USD.model')"
   ]
  },
  {
   "cell_type": "code",
   "execution_count": 20,
   "metadata": {
    "colab": {
     "base_uri": "https://localhost:8080/",
     "height": 316
    },
    "id": "7bLqrS_yMm0D",
    "outputId": "eadfaf14-4a79-4bc6-f8fb-58e8a1fe316b"
   },
   "outputs": [
    {
     "data": {
      "text/plain": [
       "<Figure size 432x288 with 0 Axes>"
      ]
     },
     "execution_count": 20,
     "metadata": {
      "tags": []
     },
     "output_type": "execute_result"
    },
    {
     "data": {
      "image/png": "[encoded data removed]",
      "text/plain": [
       "<Figure size 432x288 with 1 Axes>"
      ]
     },
     "metadata": {
      "needs_background": "light",
      "tags": []
     },
     "output_type": "display_data"
    },
    {
     "data": {
      "text/plain": [
       "<Figure size 432x288 with 0 Axes>"
      ]
     },
     "metadata": {
      "tags": []
     },
     "output_type": "display_data"
    }
   ],
   "source": [
    "import matplotlib.pyplot as plt\n",
    "\n",
    "\n",
    "acc=history.history['accuracy']\n",
    "val_acc=history.history['val_accuracy']\n",
    "epochs=range(len(acc))\n",
    "\n",
    "plt.plot(epochs,acc,'r',label='Taining_accuracy')\n",
    "plt.plot(epochs,val_acc,'b',label='Validation_accuracy')\n",
    "plt.title('Training and validation accuracy')\n",
    "plt.legend()\n",
    "plt.figure()"
   ]
  },
  {
   "cell_type": "code",
   "execution_count": null,
   "metadata": {
    "id": "1OCzj2cSxRJW"
   },
   "outputs": [],
   "source": [
    "#%load_ext tensorboard\n",
    "#%tensorboard --logdir logs "
   ]
  }
 ],
 "metadata": {
  "accelerator": "GPU",
  "colab": {
   "collapsed_sections": [],
   "name": "Untitled7.ipynb",
   "provenance": []
  },
  "kernelspec": {
   "display_name": "Python 3",
   "language": "python",
   "name": "python3"
  },
  "language_info": {
   "codemirror_mode": {
    "name": "ipython",
    "version": 3
   },
   "file_extension": ".py",
   "mimetype": "text/x-python",
   "name": "python",
   "nbconvert_exporter": "python",
   "pygments_lexer": "ipython3",
   "version": "3.7.7"
  }
 },
 "nbformat": 4,
 "nbformat_minor": 1
}
